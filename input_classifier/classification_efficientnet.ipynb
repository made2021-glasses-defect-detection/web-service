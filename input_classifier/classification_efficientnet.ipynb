{
 "cells": [
  {
   "cell_type": "markdown",
   "id": "22fed1e3",
   "metadata": {},
   "source": [
    "# Fine tune"
   ]
  },
  {
   "cell_type": "code",
   "execution_count": 18,
   "id": "e4f6eac3",
   "metadata": {},
   "outputs": [],
   "source": [
    "import gc\n",
    "import glob\n",
    "import numpy as np\n",
    "import pandas as pd\n",
    "import os\n",
    "import matplotlib.image as mpimg\n",
    "\n",
    "import torch\n",
    "import torch.nn as nn\n",
    "import torch.optim as optim \n",
    "import torchvision\n",
    "\n",
    "from torch.utils.data import DataLoader, Dataset\n",
    "from torchvision import transforms\n",
    "from efficientnet_pytorch import EfficientNet\n",
    "from sklearn.model_selection import train_test_split\n",
    "from PIL import Image\n",
    "\n",
    "import torch.utils.data as utils\n",
    "import matplotlib.pyplot as plt\n",
    "%matplotlib inline"
   ]
  },
  {
   "cell_type": "code",
   "execution_count": 5,
   "id": "9e8666a7",
   "metadata": {},
   "outputs": [],
   "source": [
    "data_dir = 'images'\n",
    "glasses_dir = data_dir + '/glasses'\n",
    "other_dir = data_dir + '/other'"
   ]
  },
  {
   "cell_type": "code",
   "execution_count": 6,
   "id": "ca2d72a1",
   "metadata": {},
   "outputs": [
    {
     "data": {
      "text/plain": [
       "(133, 2050)"
      ]
     },
     "execution_count": 6,
     "metadata": {},
     "output_type": "execute_result"
    }
   ],
   "source": [
    "image_list_glasses = glob.glob(glasses_dir + '/*.jpg')\n",
    "image_list_other = glob.glob(other_dir + '/*.jpg')\n",
    "\n",
    "len(image_list_glasses), len(image_list_other)"
   ]
  },
  {
   "cell_type": "code",
   "execution_count": 7,
   "id": "efbc90cc",
   "metadata": {},
   "outputs": [
    {
     "data": {
      "text/html": [
       "<div>\n",
       "<style scoped>\n",
       "    .dataframe tbody tr th:only-of-type {\n",
       "        vertical-align: middle;\n",
       "    }\n",
       "\n",
       "    .dataframe tbody tr th {\n",
       "        vertical-align: top;\n",
       "    }\n",
       "\n",
       "    .dataframe thead th {\n",
       "        text-align: right;\n",
       "    }\n",
       "</style>\n",
       "<table border=\"1\" class=\"dataframe\">\n",
       "  <thead>\n",
       "    <tr style=\"text-align: right;\">\n",
       "      <th></th>\n",
       "      <th>path</th>\n",
       "      <th>glasses</th>\n",
       "    </tr>\n",
       "  </thead>\n",
       "  <tbody>\n",
       "    <tr>\n",
       "      <th>0</th>\n",
       "      <td>images/glasses\\1.jpg</td>\n",
       "      <td>1</td>\n",
       "    </tr>\n",
       "    <tr>\n",
       "      <th>1</th>\n",
       "      <td>images/glasses\\10.jpg</td>\n",
       "      <td>1</td>\n",
       "    </tr>\n",
       "    <tr>\n",
       "      <th>2</th>\n",
       "      <td>images/glasses\\100.jpg</td>\n",
       "      <td>1</td>\n",
       "    </tr>\n",
       "    <tr>\n",
       "      <th>3</th>\n",
       "      <td>images/glasses\\101.jpg</td>\n",
       "      <td>1</td>\n",
       "    </tr>\n",
       "    <tr>\n",
       "      <th>4</th>\n",
       "      <td>images/glasses\\102.jpg</td>\n",
       "      <td>1</td>\n",
       "    </tr>\n",
       "  </tbody>\n",
       "</table>\n",
       "</div>"
      ],
      "text/plain": [
       "                     path  glasses\n",
       "0    images/glasses\\1.jpg        1\n",
       "1   images/glasses\\10.jpg        1\n",
       "2  images/glasses\\100.jpg        1\n",
       "3  images/glasses\\101.jpg        1\n",
       "4  images/glasses\\102.jpg        1"
      ]
     },
     "execution_count": 7,
     "metadata": {},
     "output_type": "execute_result"
    }
   ],
   "source": [
    "df = pd.concat([\n",
    "    pd.DataFrame({\"path\": image_list_glasses, \"glasses\": 1}),\n",
    "    pd.DataFrame({\"path\": image_list_other, \"glasses\": 0}),\n",
    "])\n",
    "\n",
    "df.head()"
   ]
  },
  {
   "cell_type": "code",
   "execution_count": 8,
   "id": "fd268646",
   "metadata": {},
   "outputs": [
    {
     "data": {
      "text/plain": [
       "(1746, 437)"
      ]
     },
     "execution_count": 8,
     "metadata": {},
     "output_type": "execute_result"
    }
   ],
   "source": [
    "df_train, df_test = train_test_split(df, test_size=0.2, shuffle=True)\n",
    "\n",
    "len(df_train), len(df_test)"
   ]
  },
  {
   "cell_type": "code",
   "execution_count": 9,
   "id": "f69e4c37",
   "metadata": {},
   "outputs": [],
   "source": [
    "class ImageData(Dataset):\n",
    "    def __init__(self, df, transform):\n",
    "        super().__init__()\n",
    "        self.df = df.reset_index()\n",
    "        self.data_dir = data_dir\n",
    "        self.transform = transform\n",
    "\n",
    "    def __len__(self):\n",
    "        return len(self.df)\n",
    "    \n",
    "    def __getitem__(self, index):       \n",
    "        img_path = self.df.path[index]\n",
    "        label = self.df.glasses[index]       \n",
    "        \n",
    "        image = np.array(Image.open(img_path).convert('RGB'))\n",
    "        image = self.transform(image)\n",
    "        \n",
    "        return image, label"
   ]
  },
  {
   "cell_type": "code",
   "execution_count": 10,
   "id": "c4f02ca5",
   "metadata": {},
   "outputs": [
    {
     "name": "stdout",
     "output_type": "stream",
     "text": [
      "Loaded pretrained weights for efficientnet-b0\n"
     ]
    }
   ],
   "source": [
    "model = EfficientNet.from_pretrained(\"efficientnet-b0\")"
   ]
  },
  {
   "cell_type": "code",
   "execution_count": 11,
   "id": "d226eac2",
   "metadata": {},
   "outputs": [],
   "source": [
    "# Unfreeze model weights\n",
    "for param in model.parameters():\n",
    "    param.requires_grad = True"
   ]
  },
  {
   "cell_type": "code",
   "execution_count": 12,
   "id": "0a76fd7a",
   "metadata": {},
   "outputs": [],
   "source": [
    "num_ftrs = model._fc.in_features\n",
    "model._fc = nn.Linear(num_ftrs, 1)"
   ]
  },
  {
   "cell_type": "code",
   "execution_count": 13,
   "id": "c6d453df",
   "metadata": {},
   "outputs": [],
   "source": [
    "model = model.to('cuda')"
   ]
  },
  {
   "cell_type": "code",
   "execution_count": 14,
   "id": "26053fb0",
   "metadata": {},
   "outputs": [],
   "source": [
    "optimizer = optim.Adam(model.parameters())\n",
    "loss_func = nn.BCELoss()"
   ]
  },
  {
   "cell_type": "code",
   "execution_count": 15,
   "id": "bd2371df",
   "metadata": {},
   "outputs": [],
   "source": [
    "BATCH_SIZE = 64\n",
    "\n",
    "data_transf = transforms.Compose([\n",
    "    transforms.ToPILImage(), \n",
    "    transforms.Resize((224, 224)),\n",
    "    transforms.ToTensor()]\n",
    ")\n",
    "\n",
    "train_data = ImageData(df=df_train, transform=data_transf)\n",
    "train_loader = DataLoader(dataset=train_data, batch_size=BATCH_SIZE, drop_last=True)"
   ]
  },
  {
   "cell_type": "code",
   "execution_count": 16,
   "id": "a508a280",
   "metadata": {},
   "outputs": [],
   "source": [
    "# train_data[0][0]"
   ]
  },
  {
   "cell_type": "code",
   "execution_count": 19,
   "id": "c984b85b",
   "metadata": {},
   "outputs": [],
   "source": [
    "_, (data, target) = next(enumerate(train_loader))"
   ]
  },
  {
   "cell_type": "code",
   "execution_count": 20,
   "id": "b98fbb58",
   "metadata": {},
   "outputs": [],
   "source": [
    "# target.reshape((16,1))"
   ]
  },
  {
   "cell_type": "code",
   "execution_count": 21,
   "id": "86391d76",
   "metadata": {},
   "outputs": [
    {
     "name": "stdout",
     "output_type": "stream",
     "text": [
      "Epoch=1 Batch=1 Loss=0.634492\n",
      "Epoch=1 Batch=2 Loss=0.505753\n",
      "Epoch=1 Batch=3 Loss=0.405192\n",
      "Epoch=1 Batch=4 Loss=0.265390\n",
      "Epoch=1 Batch=5 Loss=0.230769\n",
      "Epoch=1 Batch=6 Loss=0.220736\n",
      "Epoch=1 Batch=7 Loss=0.109145\n",
      "Epoch=1 Batch=8 Loss=0.078357\n",
      "Epoch=1 Batch=9 Loss=0.062234\n",
      "Epoch=1 Batch=10 Loss=0.047417\n",
      "Epoch=1 Batch=11 Loss=0.047654\n",
      "Epoch=1 Batch=12 Loss=0.041304\n",
      "Epoch=1 Batch=13 Loss=0.027889\n",
      "Epoch=1 Batch=14 Loss=0.023309\n",
      "Epoch=1 Batch=15 Loss=0.034322\n",
      "Epoch=1 Batch=16 Loss=0.008612\n",
      "Epoch=1 Batch=17 Loss=0.009041\n",
      "Epoch=1 Batch=18 Loss=0.015329\n",
      "Epoch=1 Batch=19 Loss=0.031212\n",
      "Epoch=1 Batch=20 Loss=0.014054\n",
      "Epoch=1 Batch=21 Loss=0.005412\n",
      "Epoch=1 Batch=22 Loss=0.004956\n",
      "Epoch=1 Batch=23 Loss=0.005434\n",
      "Epoch=1 Batch=24 Loss=0.047638\n",
      "Epoch=1 Batch=25 Loss=0.004595\n",
      "Epoch=1 Batch=26 Loss=0.059660\n",
      "Epoch=1 Batch=27 Loss=0.003125\n",
      "Epoch: 1 - Loss: 0.109001\n",
      "Epoch=2 Batch=1 Loss=0.003840\n",
      "Epoch=2 Batch=2 Loss=0.021157\n",
      "Epoch=2 Batch=3 Loss=0.006240\n",
      "Epoch=2 Batch=4 Loss=0.019793\n",
      "Epoch=2 Batch=5 Loss=0.017132\n",
      "Epoch=2 Batch=6 Loss=0.009523\n",
      "Epoch=2 Batch=7 Loss=0.004133\n",
      "Epoch=2 Batch=8 Loss=0.002994\n",
      "Epoch=2 Batch=9 Loss=0.002289\n",
      "Epoch=2 Batch=10 Loss=0.030860\n",
      "Epoch=2 Batch=11 Loss=0.004420\n",
      "Epoch=2 Batch=12 Loss=0.011562\n",
      "Epoch=2 Batch=13 Loss=0.003656\n",
      "Epoch=2 Batch=14 Loss=0.002673\n",
      "Epoch=2 Batch=15 Loss=0.074191\n",
      "Epoch=2 Batch=16 Loss=0.001942\n",
      "Epoch=2 Batch=17 Loss=0.003638\n",
      "Epoch=2 Batch=18 Loss=0.002883\n",
      "Epoch=2 Batch=19 Loss=0.001913\n",
      "Epoch=2 Batch=20 Loss=0.051053\n",
      "Epoch=2 Batch=21 Loss=0.024818\n",
      "Epoch=2 Batch=22 Loss=0.049338\n",
      "Epoch=2 Batch=23 Loss=0.006566\n",
      "Epoch=2 Batch=24 Loss=0.004029\n",
      "Epoch=2 Batch=25 Loss=0.001754\n",
      "Epoch=2 Batch=26 Loss=0.004288\n",
      "Epoch=2 Batch=27 Loss=0.003617\n",
      "Epoch: 2 - Loss: 0.013715\n",
      "Epoch=3 Batch=1 Loss=0.072910\n",
      "Epoch=3 Batch=2 Loss=0.002724\n",
      "Epoch=3 Batch=3 Loss=0.002713\n",
      "Epoch=3 Batch=4 Loss=0.002500\n",
      "Epoch=3 Batch=5 Loss=0.003919\n",
      "Epoch=3 Batch=6 Loss=0.006089\n",
      "Epoch=3 Batch=7 Loss=0.002431\n",
      "Epoch=3 Batch=8 Loss=0.002388\n",
      "Epoch=3 Batch=9 Loss=0.001884\n",
      "Epoch=3 Batch=10 Loss=0.003383\n",
      "Epoch=3 Batch=11 Loss=0.007451\n",
      "Epoch=3 Batch=12 Loss=0.005013\n",
      "Epoch=3 Batch=13 Loss=0.029784\n",
      "Epoch=3 Batch=14 Loss=0.001621\n",
      "Epoch=3 Batch=15 Loss=0.002544\n",
      "Epoch=3 Batch=16 Loss=0.047993\n",
      "Epoch=3 Batch=17 Loss=0.001465\n",
      "Epoch=3 Batch=18 Loss=0.001612\n",
      "Epoch=3 Batch=19 Loss=0.001254\n",
      "Epoch=3 Batch=20 Loss=0.001447\n",
      "Epoch=3 Batch=21 Loss=0.001946\n",
      "Epoch=3 Batch=22 Loss=0.001829\n",
      "Epoch=3 Batch=23 Loss=0.005511\n",
      "Epoch=3 Batch=24 Loss=0.002423\n",
      "Epoch=3 Batch=25 Loss=0.001957\n",
      "Epoch=3 Batch=26 Loss=0.001629\n",
      "Epoch=3 Batch=27 Loss=0.001372\n",
      "Epoch: 3 - Loss: 0.008066\n",
      "Epoch=4 Batch=1 Loss=0.004495\n",
      "Epoch=4 Batch=2 Loss=0.001815\n",
      "Epoch=4 Batch=3 Loss=0.001848\n",
      "Epoch=4 Batch=4 Loss=0.003533\n",
      "Epoch=4 Batch=5 Loss=0.001293\n",
      "Epoch=4 Batch=6 Loss=0.019919\n",
      "Epoch=4 Batch=7 Loss=0.000919\n",
      "Epoch=4 Batch=8 Loss=0.000703\n",
      "Epoch=4 Batch=9 Loss=0.001027\n",
      "Epoch=4 Batch=10 Loss=0.001207\n",
      "Epoch=4 Batch=11 Loss=0.011122\n",
      "Epoch=4 Batch=12 Loss=0.001982\n",
      "Epoch=4 Batch=13 Loss=0.004287\n",
      "Epoch=4 Batch=14 Loss=0.001256\n",
      "Epoch=4 Batch=15 Loss=0.017402\n",
      "Epoch=4 Batch=16 Loss=0.000890\n",
      "Epoch=4 Batch=17 Loss=0.001317\n",
      "Epoch=4 Batch=18 Loss=0.001078\n",
      "Epoch=4 Batch=19 Loss=0.001211\n",
      "Epoch=4 Batch=20 Loss=0.010903\n",
      "Epoch=4 Batch=21 Loss=0.001164\n",
      "Epoch=4 Batch=22 Loss=0.001202\n",
      "Epoch=4 Batch=23 Loss=0.016145\n",
      "Epoch=4 Batch=24 Loss=0.000720\n",
      "Epoch=4 Batch=25 Loss=0.003185\n",
      "Epoch=4 Batch=26 Loss=0.001062\n",
      "Epoch=4 Batch=27 Loss=0.000599\n",
      "Epoch: 4 - Loss: 0.004159\n",
      "Epoch=5 Batch=1 Loss=0.001777\n",
      "Epoch=5 Batch=2 Loss=0.001958\n",
      "Epoch=5 Batch=3 Loss=0.001410\n",
      "Epoch=5 Batch=4 Loss=0.000515\n",
      "Epoch=5 Batch=5 Loss=0.002011\n",
      "Epoch=5 Batch=6 Loss=0.053587\n",
      "Epoch=5 Batch=7 Loss=0.000353\n",
      "Epoch=5 Batch=8 Loss=0.000839\n",
      "Epoch=5 Batch=9 Loss=0.000576\n",
      "Epoch=5 Batch=10 Loss=0.000584\n",
      "Epoch=5 Batch=11 Loss=0.000821\n",
      "Epoch=5 Batch=12 Loss=0.001033\n",
      "Epoch=5 Batch=13 Loss=0.001958\n",
      "Epoch=5 Batch=14 Loss=0.000813\n",
      "Epoch=5 Batch=15 Loss=0.005105\n",
      "Epoch=5 Batch=16 Loss=0.006044\n",
      "Epoch=5 Batch=17 Loss=0.010646\n",
      "Epoch=5 Batch=18 Loss=0.000975\n",
      "Epoch=5 Batch=19 Loss=0.001856\n",
      "Epoch=5 Batch=20 Loss=0.001308\n",
      "Epoch=5 Batch=21 Loss=0.000877\n",
      "Epoch=5 Batch=22 Loss=0.000712\n",
      "Epoch=5 Batch=23 Loss=0.001101\n",
      "Epoch=5 Batch=24 Loss=0.001174\n",
      "Epoch=5 Batch=25 Loss=0.000590\n",
      "Epoch=5 Batch=26 Loss=0.000629\n",
      "Epoch=5 Batch=27 Loss=0.000616\n",
      "Epoch: 5 - Loss: 0.003699\n",
      "Wall time: 3min 34s\n"
     ]
    }
   ],
   "source": [
    "%%time\n",
    "\n",
    "gc.collect()\n",
    "torch.cuda.empty_cache()\n",
    "\n",
    "# Train model\n",
    "for epoch in range(5):    \n",
    "    model.train()\n",
    "    losses = []\n",
    "    for batch, (data, target) in enumerate(train_loader):\n",
    "        data, target = data.cuda(), target.cuda()\n",
    "        target = target.reshape((BATCH_SIZE, 1)).float()                \n",
    "\n",
    "        optimizer.zero_grad()\n",
    "        output = model(data)                \n",
    "    \n",
    "        m = nn.Sigmoid()\n",
    "        loss = loss_func(m(output), target)\n",
    "        loss.backward()\n",
    "\n",
    "        optimizer.step()  \n",
    "        losses.append(loss.item())\n",
    "        \n",
    "        print('Epoch={} Batch={} Loss={:.6f}'.format(epoch + 1, batch + 1, loss.item()))\n",
    "        \n",
    "       \n",
    "    print('Epoch: {} - Loss: {:.6f}'.format(epoch + 1, np.mean(losses)))"
   ]
  },
  {
   "cell_type": "code",
   "execution_count": 22,
   "id": "77eb5dc6",
   "metadata": {},
   "outputs": [],
   "source": [
    "# gc.collect()\n",
    "# torch.cuda.empty_cache()"
   ]
  },
  {
   "cell_type": "code",
   "execution_count": 23,
   "id": "4b48c8f0",
   "metadata": {},
   "outputs": [],
   "source": [
    "test_data = ImageData(df=df_test, transform=data_transf)\n",
    "test_loader = DataLoader(dataset=test_data, shuffle=False)"
   ]
  },
  {
   "cell_type": "code",
   "execution_count": 43,
   "id": "8b8eee1f",
   "metadata": {},
   "outputs": [
    {
     "name": "stdout",
     "output_type": "stream",
     "text": [
      "[7.961206733853032e-07, 2.699227843550034e-05, 4.808383891941048e-05, 1.774526754161343e-05, 1.4534341062244494e-05, 2.1458594346768223e-05, 1.2228040759509895e-05, 9.0901849034708e-05, 1.4425019116970361e-06, 1.2052640158799477e-05, 5.158993735676631e-05, 6.032954388501821e-06, 0.0003266817075200379, 2.444133860990405e-05, 3.148236282868311e-05, 0.999997615814209, 0.0001282271114178002, 5.476228034240194e-05, 6.491811745945597e-06, 0.0001923109230119735, 6.918983126524836e-05, 0.00015212975267786533, 7.257849210873246e-05, 1.7031763491104357e-05, 6.302031124505447e-06, 6.620518888666993e-06, 3.770046077988809e-06, 2.0638513888115995e-05, 0.9998759031295776, 1.751130866978201e-06, 1.0371390999353025e-05, 3.5232201867074764e-07, 1.0624732567521278e-05, 1.9594512195908464e-05, 7.236784585984424e-05, 2.4354691049666144e-05, 7.4948657129425555e-06, 5.1167105993954465e-05, 0.0001018613256746903, 0.000547527801245451, 0.00013214009231887758, 3.965310497733299e-06, 5.1430393796181306e-05, 8.768410225457046e-06, 3.993224891019054e-05, 6.057492646505125e-05, 4.617532795236912e-06, 0.0003229739668313414, 9.352784400107339e-05, 1.0596692845865618e-05, 1.2756865544361062e-05, 5.3994554036762565e-05, 3.5283192119095474e-05, 6.059605766495224e-06, 5.983837127132574e-06, 1.5707290003774688e-05, 1.7743916487233946e-06, 3.5200755519326776e-05, 2.4113805920933373e-05, 4.20137894252548e-06, 1.347324450762244e-05, 2.0761455743922852e-05, 1.5201692804112099e-05, 2.2567191990674473e-05, 3.7038712434878107e-06, 0.00020002966630272567, 2.9446102416841313e-05, 2.0171835785731673e-05, 5.983455048408359e-05, 4.7927901505318005e-06, 2.1883715817239136e-05, 1.662302020122297e-05, 2.5882827685563825e-05, 3.7102152418810874e-05, 1.818895725591574e-05, 0.9363862872123718, 1.8231070498586632e-05, 7.424438081216067e-06, 0.0001419459149474278, 1.0547582860453986e-05, 2.121114630426746e-05, 6.621529610129073e-05, 1.116744624596322e-05, 0.00010035469313152134, 7.897573232185096e-05, 0.00011355401511536911, 3.359765833010897e-05, 0.00031962472712621093, 3.0115155823295936e-05, 0.0001400835026288405, 3.8565508475585375e-06, 0.0002768583653960377, 3.67856009688694e-05, 6.406837201211601e-05, 1.668187792347453e-06, 4.3593945520115085e-06, 6.54587711323984e-05, 1.0561552699073218e-05, 3.7360264286689926e-06, 2.1436993847601116e-05, 6.8142339841870125e-06, 0.00013065537496004254, 3.641554940259084e-06, 3.948097219108604e-05, 3.4383094316581264e-05, 1.2338701083081105e-07, 1.6132640666910447e-05, 4.751234519062564e-05, 0.0001238830154761672, 1.6965946997515857e-05, 0.9998867511749268, 4.119366622035159e-06, 4.777053254656494e-05, 1.4524225662171375e-05, 3.720117820193991e-05, 4.509122845774982e-06, 2.2672114937449805e-05, 4.719024946098216e-05, 6.803683936595917e-05, 0.00012114361743442714, 0.00010148185538128018, 2.4724675313336775e-05, 2.6635134418029338e-05, 5.983443770674057e-05, 3.977683809353039e-05, 2.832109748851508e-05, 7.853118404455017e-06, 0.0001663520815782249, 1.943952520377934e-05, 8.966224413597956e-06, 2.194319449699833e-06, 2.346377368667163e-05, 1.1487242801422326e-07, 2.286268227180699e-06, 0.0001240082929143682, 3.4982029319508e-05, 2.1409779947134666e-05, 5.291785055305809e-05, 1.4886828466842417e-05, 1.1519903637235984e-05, 0.0001099577930290252, 6.932495307410136e-05, 0.9999663829803467, 0.0006276443600654602, 5.686337681254372e-05, 3.1060174023878062e-06, 4.273723970982246e-05, 5.551788126467727e-05, 3.027803131772089e-06, 8.784754027146846e-05, 2.550670069467742e-05, 3.987132731708698e-05, 2.1277151972753927e-05, 4.77087996841874e-05, 7.267545879585668e-05, 2.1343179469113238e-05, 2.1432169887702912e-05, 5.328442421159707e-05, 2.775252505671233e-05, 3.5189710615668446e-05, 8.829700163914822e-06, 0.9877324104309082, 0.9921669960021973, 3.1688326998846605e-05, 7.148348117880232e-07, 1.682847687334288e-05, 4.064279437443474e-06, 2.3220691218739375e-05, 2.5943743821699172e-05, 9.302569878855138e-07, 3.067375291720964e-05, 4.59796137874946e-05, 5.437967047328129e-06, 7.134188990676193e-07, 9.561991646478418e-06, 1.8824115613824688e-05, 2.715307516609755e-07, 1.748469003359787e-05, 0.9974563717842102, 9.436065738555044e-06, 8.626791895949282e-06, 3.4929392711546825e-08, 8.655220153741539e-05, 2.648253575898707e-05, 0.9999827146530151, 2.0284222046029754e-05, 2.7928310373681597e-05, 3.2014188036555424e-05, 1.3397469956544228e-05, 7.68061636335915e-06, 7.817609912308399e-06, 1.8432831438985886e-06, 0.00017080958059523255, 5.877761577721685e-05, 4.4696530494547915e-06, 3.4256852359249024e-06, 1.9226945369155146e-05, 1.0080428182845935e-05, 0.00011279230966465548, 1.707841147435829e-05, 1.7013062461046502e-05, 5.5129503380157985e-06, 3.1464893254451454e-05, 7.100131915649399e-05, 2.750160092546139e-05, 0.0001621920382604003, 2.3798811525921337e-05, 2.0146710085100494e-05, 7.193118108261842e-06, 1.7767973986337893e-05, 2.3773652628733544e-06, 1.600338873686269e-05, 5.531118858925765e-06, 7.575847121188417e-05, 0.9999898672103882, 3.9720362110529095e-05, 0.0002142998855561018, 0.9999417066574097, 2.8459147870307788e-05, 1.2456092008505948e-05, 5.641797906719148e-05, 3.1344229682872538e-06, 8.136609540088102e-05, 1.9205341232009232e-05, 2.5389848815393634e-05, 1.291941589443013e-05, 0.9993088245391846, 0.9999161958694458, 3.839124019577866e-06, 1.6226065781665966e-05, 1.979446278710384e-05, 1.2945859452884179e-05, 2.646703433129005e-05, 3.694750557770021e-05, 9.570915426593274e-05, 0.9999309778213501, 1.347753823210951e-06, 5.397746281232685e-05, 5.271870577416848e-06, 4.2783969547599554e-05, 9.444847250961175e-07, 7.687930519750807e-06, 4.922015796182677e-05, 1.6611531464150175e-05, 6.430071516660973e-05, 2.387166205153335e-06, 1.1653750334517099e-05, 1.8886401448980905e-05, 0.0005095091764815152, 7.065504178171977e-06, 3.404757080716081e-05, 4.704072489403188e-05, 0.00014749911497347057, 1.4541733435180504e-06, 0.0003484042244963348, 3.63883409590926e-05, 0.9999740123748779, 8.091344170679804e-06, 0.00019138968491461128, 7.631366315763444e-05, 8.75621844897978e-06, 4.0666607674211264e-05, 2.9954440833535045e-05, 4.1625033190939575e-05, 0.9999969005584717, 1.3628836313728243e-05, 4.9919221964955796e-06, 6.638910417677835e-05, 2.224327727162745e-05, 2.976303585455753e-05, 5.262004560790956e-05, 9.47334265219979e-05, 5.545163367060013e-05, 2.6418942070449702e-05, 4.12729787058197e-06, 1.1048675332858693e-05, 6.617590315727284e-06, 0.00011773460573749617, 4.599025942297885e-06, 8.524758413841482e-06, 1.4745069165655877e-05, 2.2570937289856374e-05, 1.7161168216262013e-05, 7.516963705711532e-06, 9.210048119712155e-06, 7.3291776061523706e-06, 3.9439386455342174e-05, 6.911768286954612e-05, 5.994140519760549e-05, 6.918725557625294e-05, 2.0298271920182742e-05, 5.472119300975464e-05, 0.0002009470626944676, 3.872405159199843e-06, 2.5358475319592344e-09, 3.591085260268301e-05, 3.640766863099998e-06, 5.9318263083696365e-06, 0.8931074142456055, 4.314876059652306e-05, 1.8440516214468516e-05, 3.639739952632226e-05, 1.812427035474684e-05, 0.9998934268951416, 1.0426769222249277e-05, 6.114783445809735e-06, 9.974352724384516e-05, 9.078360017156228e-05, 0.000192664418136701, 9.987970770453103e-06, 1.0648113857314456e-05, 0.00011194914986845106, 9.796684025786817e-06, 5.5600110499653965e-05, 6.099471283960156e-05, 1.3987062175147003e-07, 5.146611147210933e-05, 8.634536243334878e-06, 9.570796464686282e-06, 1.6101192159112543e-05, 2.537302498240024e-05, 4.276259642210789e-05, 0.0016188918380066752, 8.590197103330866e-05, 1.7096106603275985e-05, 6.576839950866997e-06, 6.00780185777694e-06, 4.253320184943732e-06, 7.080490468069911e-05, 1.3871393093722872e-05, 3.335897417855449e-05, 8.77798993315082e-06, 7.189448751887539e-06, 4.0608050767332315e-05, 6.479912553913891e-05, 0.00041694039828144014, 3.3650052500888705e-05, 1.4831732187303714e-05, 1.9197575966245495e-05, 0.00011063944111810997, 0.9999799728393555, 2.0011902961414307e-05, 6.911583477631211e-05, 7.627160812262446e-05, 2.0519660210993607e-06, 1.6492575696247513e-06, 2.399790901108645e-05, 6.418437988031656e-05, 0.0004279348358977586, 4.298247404221911e-06, 2.5730316338012926e-05, 1.8863493096432649e-06, 0.00034140943898819387, 6.972168193897232e-05, 3.8615817175013945e-06, 3.784375076065771e-05, 0.0003396367246750742, 1.7830712749855593e-05, 1.9799579604296014e-05, 9.173424587061163e-06, 5.347862497728784e-06, 1.4161011677060742e-05, 0.00014139206905383617, 2.4923221644712612e-05, 7.635296788066626e-05, 4.0185947000281885e-05, 9.572248382028192e-05, 7.466031820513308e-05, 2.7389109163777903e-05, 2.729199422901729e-06, 8.370701834792271e-06, 1.2278042049729265e-05, 4.783179974765517e-05, 5.1382299716351554e-05, 3.786361276070238e-06, 6.699823643430136e-06, 2.0942772607668303e-05, 2.3581273126183078e-05, 8.717557648196816e-06, 5.896293714613421e-06, 8.45799149828963e-06, 1.3861739716958255e-05, 5.10258978465572e-05, 4.395530777401291e-05, 1.798957418941427e-05, 2.6838450139621273e-05, 6.510181992780417e-05, 5.8601210184860975e-05, 0.00018404849106445909, 6.799196125939488e-05, 0.0001725702459225431, 4.099676516489126e-05, 0.00011471175821498036, 0.00019119016360491514, 1.3168221812520642e-05, 2.0663701434386894e-06, 5.9375906857894734e-05, 1.734033867251128e-05, 1.685001188889146e-05, 8.290732580462645e-07, 6.885729817440733e-05, 0.00013861287152394652, 0.9977846741676331, 1.0565522643446457e-05, 2.2922675270820037e-05, 0.9999175071716309, 6.345252586470451e-06, 0.0001142188411904499, 0.00017456297064200044, 0.015245715156197548, 6.372811913024634e-05, 0.9998311996459961, 8.297818567370996e-06, 1.023735421767924e-05, 5.643744316330412e-06, 4.6927889343351126e-06, 3.2786829251563177e-05, 1.5430910025315825e-06, 1.2175049050711095e-05, 6.891753582749516e-05, 4.856203304370865e-05, 2.6383720978628844e-05, 1.5024575986899436e-05, 3.193079464836046e-05, 0.9999643564224243, 4.8793433961691335e-05, 3.6523408198263496e-05, 2.1729971194872633e-05, 1.5768509911140427e-05, 5.19670793437399e-05, 9.190831769956276e-05, 0.00015964424528647214, 0.00010509241838008165, 1.0176088835578412e-05, 2.675282121344935e-05, 3.574051152099855e-05, 4.257845375832403e-06]\n",
      "Wall time: 30.8 s\n"
     ]
    },
    {
     "name": "stderr",
     "output_type": "stream",
     "text": [
      "F:\\Anaconda\\envs\\pytorch\\lib\\site-packages\\ipykernel_launcher.py:14: SettingWithCopyWarning: \n",
      "A value is trying to be set on a copy of a slice from a DataFrame.\n",
      "Try using .loc[row_indexer,col_indexer] = value instead\n",
      "\n",
      "See the caveats in the documentation: https://pandas.pydata.org/pandas-docs/stable/user_guide/indexing.html#returning-a-view-versus-a-copy\n",
      "  \n"
     ]
    }
   ],
   "source": [
    "%%time\n",
    "predict = []\n",
    "model.eval()\n",
    "\n",
    "for i, (data, _) in enumerate(test_loader):\n",
    "    data = data.cuda()\n",
    "    output = model(data)    \n",
    "\n",
    "    pred = torch.sigmoid(output)\n",
    "#     print(pred.cpu())\n",
    "#     pred = pred > 0.5\n",
    "    predict.append(float(pred.cpu()[0][0]))\n",
    "    \n",
    "df_test['predicted'] = predict\n",
    "df_test.to_csv(\"df_test_predicted.csv\")"
   ]
  },
  {
   "cell_type": "code",
   "execution_count": 44,
   "id": "03febcbf",
   "metadata": {},
   "outputs": [
    {
     "data": {
      "text/plain": [
       "0.9589386602098466"
      ]
     },
     "execution_count": 44,
     "metadata": {},
     "output_type": "execute_result"
    }
   ],
   "source": [
    "from sklearn.metrics import roc_auc_score, roc_curve, auc\n",
    "\n",
    "roc_auc_score(df_test[\"glasses\"], predict)"
   ]
  },
  {
   "cell_type": "code",
   "execution_count": 26,
   "id": "31f53ceb",
   "metadata": {},
   "outputs": [],
   "source": [
    "torch.save(model.state_dict(), \"efficientnet-b0\")"
   ]
  },
  {
   "cell_type": "code",
   "execution_count": 56,
   "id": "f0e282bf",
   "metadata": {},
   "outputs": [],
   "source": [
    "def quantize_preds(predict, threshold):\n",
    "    return (np.array(predict) > threshold) * 1"
   ]
  },
  {
   "cell_type": "code",
   "execution_count": 62,
   "id": "aa94f2ef",
   "metadata": {},
   "outputs": [
    {
     "data": {
      "text/plain": [
       "0.02"
      ]
     },
     "execution_count": 62,
     "metadata": {},
     "output_type": "execute_result"
    }
   ],
   "source": [
    "def find_optimal_threshold(preds, steps=100):\n",
    "    best_threshold = 0\n",
    "    best_roc_auc = 0\n",
    "    \n",
    "    for i in range(steps):    \n",
    "        threshold = (i + 1) / steps\n",
    "        fpr, tpr, _ = roc_curve(df_test[\"glasses\"], quantize_preds(preds, threshold))\n",
    "        roc_auc = auc(fpr, tpr)\n",
    "        \n",
    "        if roc_auc > best_roc_auc:\n",
    "            best_roc_auc = roc_auc\n",
    "            best_threshold = threshold\n",
    "            \n",
    "    return best_threshold\n",
    "\n",
    "find_optimal_threshold(predict)"
   ]
  },
  {
   "cell_type": "code",
   "execution_count": 63,
   "id": "00417d4a",
   "metadata": {},
   "outputs": [],
   "source": [
    "fpr, tpr, _ = roc_curve(df_test[\"glasses\"], quantize_preds(predict, 0.02))\n",
    "roc_auc = auc(fpr, tpr)"
   ]
  },
  {
   "cell_type": "code",
   "execution_count": 64,
   "id": "be208db3",
   "metadata": {},
   "outputs": [
    {
     "data": {
      "image/png": "[encoded data removed]",
      "text/plain": [
       "<Figure size 432x288 with 1 Axes>"
      ]
     },
     "metadata": {
      "needs_background": "light"
     },
     "output_type": "display_data"
    }
   ],
   "source": [
    "plt.figure()\n",
    "\n",
    "plt.plot(\n",
    "    fpr,\n",
    "    tpr,\n",
    "    color=\"darkorange\",\n",
    "    lw=2,\n",
    "    label=\"ROC curve (area = %0.3f)\" % roc_auc,\n",
    ")\n",
    "\n",
    "plt.plot([0, 1], [0, 1], color=\"navy\", lw=lw, linestyle=\"--\")\n",
    "plt.xlim([-0.05, 1.0])\n",
    "plt.ylim([0.0, 1.05])\n",
    "plt.xlabel(\"False Positive Rate\")\n",
    "plt.ylabel(\"True Positive Rate\")\n",
    "plt.title(\"Receiver operating characteristic example\")\n",
    "plt.legend(loc=\"lower right\")\n",
    "plt.show()"
   ]
  },
  {
   "cell_type": "code",
   "execution_count": 65,
   "id": "d32546f8",
   "metadata": {},
   "outputs": [
    {
     "name": "stderr",
     "output_type": "stream",
     "text": [
      "Downloading: \"https://github.com/lukemelas/EfficientNet-PyTorch/releases/download/1.0/efficientnet-b1-f1951068.pth\" to C:\\Users\\user/.cache\\torch\\hub\\checkpoints\\efficientnet-b1-f1951068.pth\n"
     ]
    },
    {
     "data": {
      "application/vnd.jupyter.widget-view+json": {
       "model_id": "8653406c786947e1b40152a9bef7096d",
       "version_major": 2,
       "version_minor": 0
      },
      "text/plain": [
       "  0%|          | 0.00/30.1M [00:00<?, ?B/s]"
      ]
     },
     "metadata": {},
     "output_type": "display_data"
    },
    {
     "name": "stdout",
     "output_type": "stream",
     "text": [
      "Loaded pretrained weights for efficientnet-b1\n"
     ]
    }
   ],
   "source": [
    "m2 = EfficientNet.from_pretrained('efficientnet-b1')\n",
    "# dummy_input = torch.randn(10, 3, 240, 240)"
   ]
  },
  {
   "cell_type": "code",
   "execution_count": 76,
   "id": "91c80506",
   "metadata": {},
   "outputs": [],
   "source": [
    "model = model.to('cpu')\n",
    "torch.save(model.state_dict(), \"efficientnet-b0-cpu.pch\")"
   ]
  },
  {
   "cell_type": "code",
   "execution_count": 80,
   "id": "9afe693d",
   "metadata": {},
   "outputs": [
    {
     "data": {
      "text/plain": [
       "<All keys matched successfully>"
      ]
     },
     "execution_count": 80,
     "metadata": {},
     "output_type": "execute_result"
    }
   ],
   "source": [
    "m2 = EfficientNet.from_name('efficientnet-b0')\n",
    "num_ftrs = m2._fc.in_features\n",
    "m2._fc = nn.Linear(num_ftrs, 1)\n",
    "m2.load_state_dict(torch.load('efficientnet-b0.pch'))"
   ]
  },
  {
   "cell_type": "code",
   "execution_count": null,
   "id": "2308dbf2",
   "metadata": {},
   "outputs": [],
   "source": []
  }
 ],
 "metadata": {
  "kernelspec": {
   "display_name": "Python 3",
   "language": "python",
   "name": "python3"
  },
  "language_info": {
   "codemirror_mode": {
    "name": "ipython",
    "version": 3
   },
   "file_extension": ".py",
   "mimetype": "text/x-python",
   "name": "python",
   "nbconvert_exporter": "python",
   "pygments_lexer": "ipython3",
   "version": "3.7.10"
  }
 },
 "nbformat": 4,
 "nbformat_minor": 5
}
