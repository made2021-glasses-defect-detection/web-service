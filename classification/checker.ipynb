{
 "cells": [
  {
   "cell_type": "code",
   "execution_count": 12,
   "metadata": {},
   "outputs": [],
   "source": [
    "import json\n",
    "import torch\n",
    "import numpy as np"
   ]
  },
  {
   "cell_type": "code",
   "execution_count": 4,
   "metadata": {},
   "outputs": [],
   "source": [
    "WHOLE_CLF_MODEL_PATH = './clf_whole.pth'"
   ]
  },
  {
   "cell_type": "code",
   "execution_count": 6,
   "metadata": {},
   "outputs": [],
   "source": [
    "clf = torch.load(WHOLE_CLF_MODEL_PATH, map_location=torch.device('cpu'))"
   ]
  },
  {
   "cell_type": "code",
   "execution_count": 7,
   "metadata": {},
   "outputs": [],
   "source": [
    "with open(\"../segmentation/predicted.json\", \"r\") as f:\n",
    "    data = f.read()"
   ]
  },
  {
   "cell_type": "code",
   "execution_count": 19,
   "metadata": {},
   "outputs": [
    {
     "data": {
      "text/plain": [
       "tensor([[[-2.2398, -3.2473, -3.4099,  ..., -3.9903, -3.7726, -2.9243],\n",
       "         [-3.8142, -5.2504, -5.4266,  ..., -5.4995, -4.9529, -3.8109],\n",
       "         [-4.1995, -5.5750, -6.5252,  ..., -5.9122, -4.9938, -4.0944],\n",
       "         ...,\n",
       "         [-3.6675, -4.7033, -4.8964,  ..., -3.7389, -3.8601, -3.1861],\n",
       "         [-3.4382, -4.6456, -5.3486,  ..., -4.5314, -4.3566, -3.4140],\n",
       "         [-2.5159, -3.2990, -3.6087,  ..., -3.1741, -3.2883, -2.3262]]])"
      ]
     },
     "execution_count": 19,
     "metadata": {},
     "output_type": "execute_result"
    }
   ],
   "source": [
    "def json_to_torch(data):\n",
    "    return torch.tensor(np.array(json.loads(data)), dtype=torch.float)\n",
    "\n",
    "predicted = json_to_torch(data)\n",
    "predicted"
   ]
  },
  {
   "cell_type": "code",
   "execution_count": 20,
   "metadata": {},
   "outputs": [],
   "source": [
    "res = clf(predicted.unsqueeze(0)).item()"
   ]
  },
  {
   "cell_type": "code",
   "execution_count": 21,
   "metadata": {},
   "outputs": [
    {
     "data": {
      "text/plain": [
       "0.9868272542953491"
      ]
     },
     "execution_count": 21,
     "metadata": {},
     "output_type": "execute_result"
    }
   ],
   "source": [
    "res"
   ]
  },
  {
   "cell_type": "code",
   "execution_count": null,
   "metadata": {},
   "outputs": [],
   "source": []
  }
 ],
 "metadata": {
  "kernelspec": {
   "display_name": "Python 3",
   "language": "python",
   "name": "python3"
  },
  "language_info": {
   "codemirror_mode": {
    "name": "ipython",
    "version": 3
   },
   "file_extension": ".py",
   "mimetype": "text/x-python",
   "name": "python",
   "nbconvert_exporter": "python",
   "pygments_lexer": "ipython3",
   "version": "3.6.10"
  }
 },
 "nbformat": 4,
 "nbformat_minor": 4
}
