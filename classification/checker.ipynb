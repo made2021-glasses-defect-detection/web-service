{
 "cells": [
  {
   "cell_type": "code",
   "execution_count": 3,
   "metadata": {},
   "outputs": [],
   "source": [
    "import json\n",
    "import torch\n",
    "import numpy as np"
   ]
  },
  {
   "cell_type": "code",
   "execution_count": 10,
   "metadata": {},
   "outputs": [],
   "source": [
    "WHOLE_CLF_MODEL_PATH = './clf-unet_res18_whole.pth'\n",
    "MASK_TRESHOLD = 0.97"
   ]
  },
  {
   "cell_type": "code",
   "execution_count": 5,
   "metadata": {},
   "outputs": [],
   "source": [
    "clf = torch.load(WHOLE_CLF_MODEL_PATH, map_location=torch.device('cpu'))"
   ]
  },
  {
   "cell_type": "code",
   "execution_count": 6,
   "metadata": {},
   "outputs": [],
   "source": [
    "with open(\"../segmentation/predicted.json\", \"r\") as f:\n",
    "    data = f.read()"
   ]
  },
  {
   "cell_type": "code",
   "execution_count": 7,
   "metadata": {},
   "outputs": [
    {
     "data": {
      "text/plain": [
       "tensor([[[ 5.1973e-01,  6.6582e-01,  7.2732e-01,  ...,  5.5262e-01,\n",
       "           3.4745e-01,  1.9984e-01],\n",
       "         [ 3.7191e-01,  1.9322e-01, -1.7470e-01,  ..., -2.9057e-01,\n",
       "          -6.9057e-01, -8.4840e-01],\n",
       "         [ 2.9075e-01,  3.1229e-02, -6.8764e-03,  ...,  1.2394e-01,\n",
       "          -2.1234e-01, -3.4632e-02],\n",
       "         ...,\n",
       "         [ 6.2996e-01,  5.7438e-01,  2.0560e-01,  ...,  2.4859e-01,\n",
       "           1.4611e-01,  3.0752e-01],\n",
       "         [ 3.5812e-01,  3.5608e-01,  4.1105e-01,  ...,  4.9356e-01,\n",
       "           7.5558e-01,  6.2007e-01],\n",
       "         [ 3.7647e-01,  4.1394e-01,  5.1995e-01,  ...,  3.3104e-01,\n",
       "           5.4640e-01,  1.4360e-01]],\n",
       "\n",
       "        [[ 2.9009e-01,  1.9969e-01,  6.3913e-02,  ..., -1.9473e-02,\n",
       "           2.3505e-01,  2.1236e-02],\n",
       "         [ 1.8000e-01, -4.3361e-01, -5.7790e-01,  ..., -3.1483e-01,\n",
       "          -6.3855e-04,  3.0076e-01],\n",
       "         [ 2.5888e-01, -2.9731e-01, -2.5060e-01,  ...,  5.1311e-02,\n",
       "           3.2410e-01,  2.8928e-01],\n",
       "         ...,\n",
       "         [-8.5507e-02, -1.5151e-01, -9.1759e-02,  ..., -5.1977e-01,\n",
       "          -7.4195e-02, -5.3706e-02],\n",
       "         [-7.1361e-02, -4.6347e-01, -4.8263e-01,  ..., -3.4726e-01,\n",
       "          -7.4294e-01, -2.2887e-01],\n",
       "         [ 2.0091e-01, -2.3617e-01, -2.0234e-01,  ..., -2.7653e-01,\n",
       "          -7.7347e-01, -2.8277e-01]]])"
      ]
     },
     "execution_count": 7,
     "metadata": {},
     "output_type": "execute_result"
    }
   ],
   "source": [
    "def json_to_torch(data):\n",
    "    return torch.tensor(np.array(json.loads(data)), dtype=torch.float)\n",
    "\n",
    "predicted = json_to_torch(data)\n",
    "predicted"
   ]
  },
  {
   "cell_type": "code",
   "execution_count": 21,
   "metadata": {},
   "outputs": [
    {
     "data": {
      "text/plain": [
       "torch.Size([2, 320, 480])"
      ]
     },
     "execution_count": 21,
     "metadata": {},
     "output_type": "execute_result"
    }
   ],
   "source": [
    "predicted2 = (predicted > MASK_TRESHOLD).float()\n",
    "predicted2.shape\n",
    "# clf(predicted2)#[0].item()"
   ]
  },
  {
   "cell_type": "code",
   "execution_count": 22,
   "metadata": {},
   "outputs": [],
   "source": [
    "res = clf(predicted2.unsqueeze(0)).item()"
   ]
  },
  {
   "cell_type": "code",
   "execution_count": 23,
   "metadata": {},
   "outputs": [
    {
     "data": {
      "text/plain": [
       "(1.0, True)"
      ]
     },
     "execution_count": 23,
     "metadata": {},
     "output_type": "execute_result"
    }
   ],
   "source": [
    "res, res > MASK_TRESHOLD"
   ]
  },
  {
   "cell_type": "code",
   "execution_count": 32,
   "metadata": {},
   "outputs": [],
   "source": [
    "with open(\"../segmentation/predicted_0.json\", \"r\") as f:\n",
    "    data = f.read()\n",
    "    \n",
    "predicted = json_to_torch(data)\n",
    "predicted = (predicted > MASK_TRESHOLD).float()"
   ]
  },
  {
   "cell_type": "code",
   "execution_count": 33,
   "metadata": {},
   "outputs": [
    {
     "data": {
      "text/plain": [
       "0.023177100345492363"
      ]
     },
     "execution_count": 33,
     "metadata": {},
     "output_type": "execute_result"
    }
   ],
   "source": [
    "clf(predicted.unsqueeze(0)).item()"
   ]
  },
  {
   "cell_type": "code",
   "execution_count": null,
   "metadata": {},
   "outputs": [],
   "source": []
  }
 ],
 "metadata": {
  "kernelspec": {
   "display_name": "Python 3",
   "language": "python",
   "name": "python3"
  },
  "language_info": {
   "codemirror_mode": {
    "name": "ipython",
    "version": 3
   },
   "file_extension": ".py",
   "mimetype": "text/x-python",
   "name": "python",
   "nbconvert_exporter": "python",
   "pygments_lexer": "ipython3",
   "version": "3.6.10"
  }
 },
 "nbformat": 4,
 "nbformat_minor": 4
}
